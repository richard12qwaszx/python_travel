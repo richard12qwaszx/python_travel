{
 "cells": [
  {
   "cell_type": "code",
   "execution_count": 1,
   "id": "d5ba44b9-077b-4cbf-b23f-a7b403e2db55",
   "metadata": {},
   "outputs": [
    {
     "name": "stdout",
     "output_type": "stream",
     "text": [
      "成功連接到 MongoDB!\n",
      "MongoDB 版本: 8.0.5\n"
     ]
    }
   ],
   "source": [
    "from pymongo import MongoClient\n",
    "from pymongo.errors import ConnectionFailure\n",
    "\n",
    "try:\n",
    "    # 建立連接\n",
    "    client = MongoClient('mongodb://localhost:27017/')\n",
    "    \n",
    "    # 檢查連接\n",
    "    server_info = client.server_info()\n",
    "    print(\"成功連接到 MongoDB!\")\n",
    "    print(f\"MongoDB 版本: {server_info['version']}\")\n",
    "    \n",
    "except ConnectionFailure as e:\n",
    "    print(f\"無法連接到 MongoDB 服務器: {e}\")\n"
   ]
  },
  {
   "cell_type": "code",
   "execution_count": 3,
   "id": "23e928e3-8f1e-4cc1-a947-4a2b4c675c64",
   "metadata": {},
   "outputs": [],
   "source": [
    "import pandas as pd\n",
    "\n",
    "# 基本讀取\n",
    "# 如果有中文，建議使用 utf-8 編碼\n",
    "df = pd.read_csv('gmap838_reviews (1).csv', encoding='utf-8')"
   ]
  },
  {
   "cell_type": "code",
   "execution_count": 5,
   "id": "9e3ab814-39d8-45eb-b81a-b4b314525ed9",
   "metadata": {},
   "outputs": [
    {
     "name": "stdout",
     "output_type": "stream",
     "text": [
      "<class 'pandas.core.frame.DataFrame'>\n",
      "RangeIndex: 6378475 entries, 0 to 6378474\n",
      "Data columns (total 10 columns):\n",
      " #   Column               Dtype \n",
      "---  ------               ----- \n",
      " 0   user_name            object\n",
      " 1   user_id              object\n",
      " 2   review_id            object\n",
      " 3   score                int64 \n",
      " 4   date                 object\n",
      " 5   comments             object\n",
      " 6   language             object\n",
      " 7   translated_comments  object\n",
      " 8   user_page            object\n",
      " 9   gmap_location        object\n",
      "dtypes: int64(1), object(9)\n",
      "memory usage: 486.6+ MB\n",
      "None\n",
      "Index(['user_name', 'user_id', 'review_id', 'score', 'date', 'comments',\n",
      "       'language', 'translated_comments', 'user_page', 'gmap_location'],\n",
      "      dtype='object')\n"
     ]
    }
   ],
   "source": [
    "# 查看基本信息\n",
    "print(df.info())\n",
    "\n",
    "# 查看欄位名稱\n",
    "print(df.columns)"
   ]
  },
  {
   "cell_type": "code",
   "execution_count": 7,
   "id": "8b18b192-c162-40d9-be01-3008393265ac",
   "metadata": {},
   "outputs": [
    {
     "name": "stdout",
     "output_type": "stream",
     "text": [
      "4\n"
     ]
    }
   ],
   "source": [
    "print(df['score'][0])"
   ]
  },
  {
   "cell_type": "raw",
   "id": "0d9c3446-8273-4fb5-bae7-aadd02505f7c",
   "metadata": {},
   "source": [
    "# 如果 user 數據來自 DataFrame 的某一行\n",
    "user = df.iloc[0].to_dict()  # 將 DataFrame 的第一行轉換為字典\n",
    "\n",
    "user = [ {\n",
    "    \"name\" : df['user_name'][0],\n",
    "    \"user_id\" : df['user_id'][0],\n",
    "    \"review_id\" : df['review_id'][0],\n",
    "    \"score\" : df['score'][0],\n",
    "    \"date\" : df['date'][0],\n",
    "    \"comments\" : df['comments'][0],\n",
    "    'language' : df['language'][0],\n",
    "    'translated_comments' : df['translated_comments'][0],\n",
    "    'user_page' : df['user_page'][0] , \n",
    "    'gmap_location' : df['gmap_location'][0]\n",
    "}\n",
    "]"
   ]
  },
  {
   "cell_type": "raw",
   "id": "06559b43-dd53-4acb-9862-304fbb1293bf",
   "metadata": {},
   "source": [
    "print(user[0])"
   ]
  },
  {
   "cell_type": "code",
   "execution_count": 9,
   "id": "7cd1099d-a31c-4065-aa63-3187ddec0ed4",
   "metadata": {},
   "outputs": [],
   "source": [
    "import numpy as np\n",
    "import pandas as pd\n",
    "\n",
    "def convert_numpy_types(item):\n",
    "    \"\"\"\n",
    "    將 NumPy 和 Pandas 類型轉換為 Python 原生類型\n",
    "    \"\"\"\n",
    "    if isinstance(item, dict):\n",
    "        return {k: convert_numpy_types(v) for k, v in item.items()}\n",
    "    elif isinstance(item, list):\n",
    "        return [convert_numpy_types(i) for i in item]\n",
    "    elif isinstance(item, np.integer):\n",
    "        return int(item)\n",
    "    elif isinstance(item, np.floating):\n",
    "        # 處理 np.nan\n",
    "        return float(item) if not np.isnan(item) else None\n",
    "    elif isinstance(item, np.ndarray):\n",
    "        return item.tolist()\n",
    "    elif pd.isna(item):  # 處理 pandas NA/NaN\n",
    "        return None\n",
    "    else:\n",
    "        return item\n",
    "\n",
    "# 示例用法\n",
    "user = [ {\n",
    "    \"name\" : df['user_name'][0],\n",
    "    \"user_id\" : df['user_id'][0],\n",
    "    \"review_id\" : df['review_id'][0],\n",
    "    \"score\" : df['score'][0],\n",
    "    \"date\" : df['date'][0],\n",
    "    \"comments\" : df['comments'][0],\n",
    "    'language' : df['language'][0],\n",
    "    'translated_comments' : df['translated_comments'][0],\n",
    "    'user_page' : df['user_page'][0] , \n",
    "    'gmap_location' : df['gmap_location'][0]\n",
    "}\n",
    "]\n",
    "\n",
    "# 轉換數據\n",
    "converted_user = convert_numpy_types(user)\n",
    "\n",
    "# 現在 converted_user 包含的是 Python 原生類型\n",
    "# score 將是 int 類型而不是 np.int64\n",
    "# translated_comments 將是 None 而不是 np.nan\n"
   ]
  },
  {
   "cell_type": "code",
   "execution_count": 11,
   "id": "4506306b-15e8-43ce-b58d-a62340858a66",
   "metadata": {},
   "outputs": [
    {
     "name": "stdout",
     "output_type": "stream",
     "text": [
      "[{'name': '林哲豪', 'user_id': '107033607967130169527', 'review_id': 'ChZDSUhNMG9nS0VJQ0FnTURBMUttdUZnEAE', 'score': 4, 'date': '2025-02-07', 'comments': '來參觀陶瓷博物館，可以了解台灣陶瓷的演進史，和現代陶瓷應用，讓我增加對陶瓷的知識', 'language': 'zh-Hant', 'translated_comments': None, 'user_page': 'https://www.google.com/maps/contrib/107033607967130169527/reviews?hl=zh-TW', 'gmap_location': '新北市立鶯歌陶瓷博物館'}]\n"
     ]
    }
   ],
   "source": [
    "print(converted_user)"
   ]
  },
  {
   "cell_type": "code",
   "execution_count": 13,
   "id": "5ebb112d-26cd-4f99-9752-7be22ea81208",
   "metadata": {},
   "outputs": [
    {
     "name": "stdout",
     "output_type": "stream",
     "text": [
      "已插入文檔，ID列表: [ObjectId('67bec8fdf088484bbbdc9b59')]\n"
     ]
    }
   ],
   "source": [
    "# 選擇或創建數據庫\n",
    "db = client['test']  # 如果不存在會在插入數據時自動創建\n",
    "# 選擇或創建集合\n",
    "collection = db['users']  # 如果不存在會在插入數據時自動創建\n",
    "\n",
    "result = collection.insert_many(converted_user)\n",
    "print(f\"已插入文檔，ID列表: {result.inserted_ids}\")"
   ]
  },
  {
   "cell_type": "code",
   "execution_count": null,
   "id": "0e9c2533-0870-490b-a71b-d4631e6cb096",
   "metadata": {},
   "outputs": [],
   "source": []
  },
  {
   "cell_type": "code",
   "execution_count": null,
   "id": "3b34d0c7-0bbe-47d4-967b-d50f831b83f8",
   "metadata": {},
   "outputs": [],
   "source": []
  },
  {
   "cell_type": "code",
   "execution_count": null,
   "id": "93035d2e-6465-44dc-bc66-f696593a3a95",
   "metadata": {},
   "outputs": [],
   "source": []
  },
  {
   "cell_type": "code",
   "execution_count": 4,
   "id": "406ae87b-3277-4e18-b69f-6997df7d1879",
   "metadata": {},
   "outputs": [],
   "source": [
    "from pymongo import MongoClient\n",
    "from pymongo.errors import ConnectionFailure\n",
    "# 使用 IP 地址而不是 localhost\n",
    "client = MongoClient('mongodb://127.0.0.1:27017/')\n",
    "\n",
    "# 或者指定更多連接參數\n",
    "client = MongoClient(\n",
    "    host='localhost',\n",
    "    port=27017,\n",
    "    serverSelectionTimeoutMS=5000  # 縮短超時時間以更快獲得錯誤\n",
    ")\n"
   ]
  },
  {
   "cell_type": "code",
   "execution_count": null,
   "id": "d64a0ce5-3b26-4d5e-8d2f-683ee9a3c628",
   "metadata": {},
   "outputs": [],
   "source": []
  }
 ],
 "metadata": {
  "kernelspec": {
   "display_name": "dl",
   "language": "python",
   "name": "dl"
  },
  "language_info": {
   "codemirror_mode": {
    "name": "ipython",
    "version": 3
   },
   "file_extension": ".py",
   "mimetype": "text/x-python",
   "name": "python",
   "nbconvert_exporter": "python",
   "pygments_lexer": "ipython3",
   "version": "3.10.0"
  }
 },
 "nbformat": 4,
 "nbformat_minor": 5
}
